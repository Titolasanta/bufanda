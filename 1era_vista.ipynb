{
 "cells": [
  {
   "cell_type": "code",
   "execution_count": 234,
   "metadata": {},
   "outputs": [],
   "source": [
    "import pandas as pd\n",
    "import math as mt\n",
    "import unidecode\n",
    "import matplotlib.pyplot as plt"
   ]
  },
  {
   "cell_type": "code",
   "execution_count": 235,
   "metadata": {},
   "outputs": [],
   "source": [
    "df = pd.read_csv(\"events.csv\",low_memory = False)"
   ]
  },
  {
   "cell_type": "code",
   "execution_count": 236,
   "metadata": {},
   "outputs": [
    {
     "data": {
      "text/html": [
       "<div>\n",
       "<style scoped>\n",
       "    .dataframe tbody tr th:only-of-type {\n",
       "        vertical-align: middle;\n",
       "    }\n",
       "\n",
       "    .dataframe tbody tr th {\n",
       "        vertical-align: top;\n",
       "    }\n",
       "\n",
       "    .dataframe thead th {\n",
       "        text-align: right;\n",
       "    }\n",
       "</style>\n",
       "<table border=\"1\" class=\"dataframe\">\n",
       "  <thead>\n",
       "    <tr style=\"text-align: right;\">\n",
       "      <th></th>\n",
       "      <th>timestamp</th>\n",
       "      <th>event</th>\n",
       "      <th>person</th>\n",
       "      <th>url</th>\n",
       "      <th>sku</th>\n",
       "      <th>model</th>\n",
       "      <th>condition</th>\n",
       "      <th>storage</th>\n",
       "      <th>color</th>\n",
       "      <th>skus</th>\n",
       "      <th>...</th>\n",
       "      <th>search_engine</th>\n",
       "      <th>channel</th>\n",
       "      <th>new_vs_returning</th>\n",
       "      <th>city</th>\n",
       "      <th>region</th>\n",
       "      <th>country</th>\n",
       "      <th>device_type</th>\n",
       "      <th>screen_resolution</th>\n",
       "      <th>operating_system_version</th>\n",
       "      <th>browser_version</th>\n",
       "    </tr>\n",
       "  </thead>\n",
       "  <tbody>\n",
       "    <tr>\n",
       "      <th>0</th>\n",
       "      <td>2018-05-31 23:38:05</td>\n",
       "      <td>ad campaign hit</td>\n",
       "      <td>0004b0a2</td>\n",
       "      <td>/comprar/iphone/iphone-5s</td>\n",
       "      <td>NaN</td>\n",
       "      <td>NaN</td>\n",
       "      <td>NaN</td>\n",
       "      <td>NaN</td>\n",
       "      <td>NaN</td>\n",
       "      <td>NaN</td>\n",
       "      <td>...</td>\n",
       "      <td>NaN</td>\n",
       "      <td>NaN</td>\n",
       "      <td>NaN</td>\n",
       "      <td>NaN</td>\n",
       "      <td>NaN</td>\n",
       "      <td>NaN</td>\n",
       "      <td>NaN</td>\n",
       "      <td>NaN</td>\n",
       "      <td>NaN</td>\n",
       "      <td>NaN</td>\n",
       "    </tr>\n",
       "    <tr>\n",
       "      <th>1</th>\n",
       "      <td>2018-05-31 23:38:05</td>\n",
       "      <td>visited site</td>\n",
       "      <td>0004b0a2</td>\n",
       "      <td>NaN</td>\n",
       "      <td>NaN</td>\n",
       "      <td>NaN</td>\n",
       "      <td>NaN</td>\n",
       "      <td>NaN</td>\n",
       "      <td>NaN</td>\n",
       "      <td>NaN</td>\n",
       "      <td>...</td>\n",
       "      <td>NaN</td>\n",
       "      <td>Paid</td>\n",
       "      <td>New</td>\n",
       "      <td>Camaragibe</td>\n",
       "      <td>Pernambuco</td>\n",
       "      <td>Brazil</td>\n",
       "      <td>Smartphone</td>\n",
       "      <td>360x640</td>\n",
       "      <td>Android 6</td>\n",
       "      <td>Chrome Mobile 39</td>\n",
       "    </tr>\n",
       "    <tr>\n",
       "      <th>2</th>\n",
       "      <td>2018-05-31 23:38:09</td>\n",
       "      <td>viewed product</td>\n",
       "      <td>0004b0a2</td>\n",
       "      <td>NaN</td>\n",
       "      <td>2694.0</td>\n",
       "      <td>iPhone 5s</td>\n",
       "      <td>Bom</td>\n",
       "      <td>32GB</td>\n",
       "      <td>Cinza espacial</td>\n",
       "      <td>NaN</td>\n",
       "      <td>...</td>\n",
       "      <td>NaN</td>\n",
       "      <td>NaN</td>\n",
       "      <td>NaN</td>\n",
       "      <td>NaN</td>\n",
       "      <td>NaN</td>\n",
       "      <td>NaN</td>\n",
       "      <td>NaN</td>\n",
       "      <td>NaN</td>\n",
       "      <td>NaN</td>\n",
       "      <td>NaN</td>\n",
       "    </tr>\n",
       "    <tr>\n",
       "      <th>3</th>\n",
       "      <td>2018-05-31 23:38:40</td>\n",
       "      <td>checkout</td>\n",
       "      <td>0004b0a2</td>\n",
       "      <td>NaN</td>\n",
       "      <td>2694.0</td>\n",
       "      <td>iPhone 5s</td>\n",
       "      <td>Bom</td>\n",
       "      <td>32GB</td>\n",
       "      <td>Cinza espacial</td>\n",
       "      <td>NaN</td>\n",
       "      <td>...</td>\n",
       "      <td>NaN</td>\n",
       "      <td>NaN</td>\n",
       "      <td>NaN</td>\n",
       "      <td>NaN</td>\n",
       "      <td>NaN</td>\n",
       "      <td>NaN</td>\n",
       "      <td>NaN</td>\n",
       "      <td>NaN</td>\n",
       "      <td>NaN</td>\n",
       "      <td>NaN</td>\n",
       "    </tr>\n",
       "    <tr>\n",
       "      <th>4</th>\n",
       "      <td>2018-05-29 13:29:25</td>\n",
       "      <td>viewed product</td>\n",
       "      <td>0006a21a</td>\n",
       "      <td>NaN</td>\n",
       "      <td>15338.0</td>\n",
       "      <td>Samsung Galaxy S8</td>\n",
       "      <td>Bom</td>\n",
       "      <td>64GB</td>\n",
       "      <td>Dourado</td>\n",
       "      <td>NaN</td>\n",
       "      <td>...</td>\n",
       "      <td>NaN</td>\n",
       "      <td>NaN</td>\n",
       "      <td>NaN</td>\n",
       "      <td>NaN</td>\n",
       "      <td>NaN</td>\n",
       "      <td>NaN</td>\n",
       "      <td>NaN</td>\n",
       "      <td>NaN</td>\n",
       "      <td>NaN</td>\n",
       "      <td>NaN</td>\n",
       "    </tr>\n",
       "  </tbody>\n",
       "</table>\n",
       "<p>5 rows × 23 columns</p>\n",
       "</div>"
      ],
      "text/plain": [
       "             timestamp            event    person                        url  \\\n",
       "0  2018-05-31 23:38:05  ad campaign hit  0004b0a2  /comprar/iphone/iphone-5s   \n",
       "1  2018-05-31 23:38:05     visited site  0004b0a2                        NaN   \n",
       "2  2018-05-31 23:38:09   viewed product  0004b0a2                        NaN   \n",
       "3  2018-05-31 23:38:40         checkout  0004b0a2                        NaN   \n",
       "4  2018-05-29 13:29:25   viewed product  0006a21a                        NaN   \n",
       "\n",
       "       sku              model condition storage           color skus  \\\n",
       "0      NaN                NaN       NaN     NaN             NaN  NaN   \n",
       "1      NaN                NaN       NaN     NaN             NaN  NaN   \n",
       "2   2694.0          iPhone 5s       Bom    32GB  Cinza espacial  NaN   \n",
       "3   2694.0          iPhone 5s       Bom    32GB  Cinza espacial  NaN   \n",
       "4  15338.0  Samsung Galaxy S8       Bom    64GB         Dourado  NaN   \n",
       "\n",
       "         ...        search_engine channel new_vs_returning        city  \\\n",
       "0        ...                  NaN     NaN              NaN         NaN   \n",
       "1        ...                  NaN    Paid              New  Camaragibe   \n",
       "2        ...                  NaN     NaN              NaN         NaN   \n",
       "3        ...                  NaN     NaN              NaN         NaN   \n",
       "4        ...                  NaN     NaN              NaN         NaN   \n",
       "\n",
       "       region country device_type screen_resolution operating_system_version  \\\n",
       "0         NaN     NaN         NaN               NaN                      NaN   \n",
       "1  Pernambuco  Brazil  Smartphone           360x640                Android 6   \n",
       "2         NaN     NaN         NaN               NaN                      NaN   \n",
       "3         NaN     NaN         NaN               NaN                      NaN   \n",
       "4         NaN     NaN         NaN               NaN                      NaN   \n",
       "\n",
       "    browser_version  \n",
       "0               NaN  \n",
       "1  Chrome Mobile 39  \n",
       "2               NaN  \n",
       "3               NaN  \n",
       "4               NaN  \n",
       "\n",
       "[5 rows x 23 columns]"
      ]
     },
     "execution_count": 236,
     "metadata": {},
     "output_type": "execute_result"
    }
   ],
   "source": [
    "df.head()"
   ]
  },
  {
   "cell_type": "code",
   "execution_count": 237,
   "metadata": {},
   "outputs": [
    {
     "data": {
      "text/plain": [
       "event\n",
       "ad campaign hit       82827\n",
       "brand listing         98635\n",
       "checkout              33735\n",
       "conversion             1172\n",
       "generic listing       67534\n",
       "lead                    448\n",
       "search engine hit     50957\n",
       "searched products     56073\n",
       "staticpage             3598\n",
       "viewed product       528931\n",
       "visited site          87378\n",
       "dtype: int64"
      ]
     },
     "execution_count": 237,
     "metadata": {},
     "output_type": "execute_result"
    }
   ],
   "source": [
    "df.groupby(\"event\").size()"
   ]
  },
  {
   "cell_type": "code",
   "execution_count": 238,
   "metadata": {},
   "outputs": [
    {
     "data": {
      "text/plain": [
       "1011288"
      ]
     },
     "execution_count": 238,
     "metadata": {},
     "output_type": "execute_result"
    }
   ],
   "source": [
    "df[\"person\"].size"
   ]
  },
  {
   "cell_type": "code",
   "execution_count": 239,
   "metadata": {},
   "outputs": [
    {
     "data": {
      "text/plain": [
       "timestamp                         0\n",
       "event                             0\n",
       "person                            0\n",
       "url                          928532\n",
       "sku                          447450\n",
       "model                        447004\n",
       "condition                    447452\n",
       "storage                      447452\n",
       "color                        447452\n",
       "skus                         789589\n",
       "search_term                  962321\n",
       "staticpage                  1007690\n",
       "campaign_source              928492\n",
       "search_engine                960331\n",
       "channel                      923910\n",
       "new_vs_returning             923910\n",
       "city                         923910\n",
       "region                       923910\n",
       "country                      923910\n",
       "device_type                  923910\n",
       "screen_resolution            923910\n",
       "operating_system_version     923910\n",
       "browser_version              923910\n",
       "dtype: int64"
      ]
     },
     "execution_count": 239,
     "metadata": {},
     "output_type": "execute_result"
    }
   ],
   "source": [
    "df.isnull().sum()"
   ]
  },
  {
   "cell_type": "code",
   "execution_count": 240,
   "metadata": {},
   "outputs": [
    {
     "data": {
      "text/plain": [
       "27624"
      ]
     },
     "execution_count": 240,
     "metadata": {},
     "output_type": "execute_result"
    }
   ],
   "source": [
    "df[\"person\"].nunique()"
   ]
  },
  {
   "cell_type": "code",
   "execution_count": 241,
   "metadata": {},
   "outputs": [
    {
     "data": {
      "text/plain": [
       "343"
      ]
     },
     "execution_count": 241,
     "metadata": {},
     "output_type": "execute_result"
    }
   ],
   "source": [
    "df[\"browser_version\"].nunique()"
   ]
  },
  {
   "cell_type": "code",
   "execution_count": 242,
   "metadata": {},
   "outputs": [
    {
     "data": {
      "text/plain": [
       "121"
      ]
     },
     "execution_count": 242,
     "metadata": {},
     "output_type": "execute_result"
    }
   ],
   "source": [
    "df[\"operating_system_version\"].nunique()"
   ]
  },
  {
   "cell_type": "code",
   "execution_count": 243,
   "metadata": {},
   "outputs": [
    {
     "data": {
      "text/plain": [
       "282"
      ]
     },
     "execution_count": 243,
     "metadata": {},
     "output_type": "execute_result"
    }
   ],
   "source": [
    "df[\"screen_resolution\"].nunique()\n",
    "#hacer algo con un split de x"
   ]
  },
  {
   "cell_type": "code",
   "execution_count": null,
   "metadata": {},
   "outputs": [],
   "source": []
  },
  {
   "cell_type": "code",
   "execution_count": 244,
   "metadata": {},
   "outputs": [
    {
     "data": {
      "text/plain": [
       "4"
      ]
     },
     "execution_count": 244,
     "metadata": {},
     "output_type": "execute_result"
    }
   ],
   "source": [
    "df[\"device_type\"].nunique()"
   ]
  },
  {
   "cell_type": "code",
   "execution_count": 245,
   "metadata": {},
   "outputs": [
    {
     "data": {
      "text/plain": [
       "24"
      ]
     },
     "execution_count": 245,
     "metadata": {},
     "output_type": "execute_result"
    }
   ],
   "source": [
    "df[\"campaign_source\"].nunique()"
   ]
  },
  {
   "cell_type": "code",
   "execution_count": 246,
   "metadata": {},
   "outputs": [
    {
     "data": {
      "text/plain": [
       "4"
      ]
     },
     "execution_count": 246,
     "metadata": {},
     "output_type": "execute_result"
    }
   ],
   "source": [
    "df[\"search_engine\"].nunique()"
   ]
  },
  {
   "cell_type": "code",
   "execution_count": 247,
   "metadata": {},
   "outputs": [
    {
     "data": {
      "text/plain": [
       "5"
      ]
     },
     "execution_count": 247,
     "metadata": {},
     "output_type": "execute_result"
    }
   ],
   "source": [
    "df[\"condition\"].nunique()"
   ]
  },
  {
   "cell_type": "code",
   "execution_count": 248,
   "metadata": {},
   "outputs": [],
   "source": [
    "\n",
    "\n",
    "def size_cal(obj):\n",
    "    \n",
    "    #is null\n",
    "    if( pd.isnull(obj) ):\n",
    "        return obj\n",
    "    list = obj.split(\"x\")\n",
    "    \n",
    "    #no se que seria\n",
    "    if(len(list) != 2):\n",
    "        print(1)\n",
    "    v0 = pd.to_numeric(list[0])    \n",
    "    v1 = pd.to_numeric(list[1])\n",
    "    \n",
    "    #pantalla ridicula\n",
    "    if(v1 * 10 < v0 or v0 * 10 < v1):\n",
    "        return \"no\"\n",
    "    area = v0 * v1\n",
    "    return area\n",
    "    \n",
    "    \n",
    "df[\"screen_area\"] = df[\"screen_resolution\"].apply(size_cal)"
   ]
  },
  {
   "cell_type": "code",
   "execution_count": 249,
   "metadata": {},
   "outputs": [
    {
     "data": {
      "text/plain": [
       "array([nan, 'Android 6', 'Android 5.1.1', 'Windows 10 ', 'Windows 7 ',\n",
       "       'Windows 8.1 ', 'Android 7.1.1', 'Android 7', 'iOS 10.2.1',\n",
       "       'Android 5.0.2', 'Android 4.2.2', 'Android 4.1.2', 'Android 4.4.4',\n",
       "       'Android 6.0.1', 'Linux ', 'Android 5.1', 'Mac OS X 10.13.5',\n",
       "       'iOS 11.3', 'Android 7.1.2', 'Windows XP ', 'Android 8',\n",
       "       'Android 4.3', 'iOS 11.2.2', 'iOS 11.2.5', 'iOS 10.3.3',\n",
       "       'Android 4.4.2', 'Windows 8 ', 'Android 5', 'iOS 9.3.5',\n",
       "       'iOS 7.1.2', 'Android 5.0.1', 'iOS 11.4', 'Windows Phone 8.1',\n",
       "       'Ubuntu ', 'Android 8.1', 'Windows Vista ', 'Mac OS X 10.10.2',\n",
       "       'iOS 11.2.6', 'Other ', 'Android 4.0.4', 'Android 4.4.3',\n",
       "       'iOS 11.1.2', 'Chrome OS 10032.86', 'Windows Phone 10',\n",
       "       'Windows RT ', 'iOS 10.3.2', 'Windows Phone 8', 'iOS 11.2.1',\n",
       "       'Mac OS X 10.11.6', 'iOS 10.2', 'Mac OS X 10.13.3',\n",
       "       'Mac OS X 10.6.4', 'Android ', 'iOS 10.0.2', 'Mac OS X 10.13.4',\n",
       "       'Android 6.1', 'iOS 3.2', 'Mac OS X 10.12.3', 'iOS 11.1',\n",
       "       'iOS 11.0.1', 'Tizen 3', 'iOS 9.2.1', 'Windows Phone 7.5',\n",
       "       'Mac OS X 10.12.6', 'Chrome OS 10452.96', 'Ubuntu 10.4',\n",
       "       'Mac OS X 10.10.5', 'iOS 4', 'iOS 7.1.1', 'iOS 11.2',\n",
       "       'Mac OS X 10.9.5', 'Mac OS X 10.6.8', 'iOS 10.3.1',\n",
       "       'Mac OS X 10.10', 'iOS 11.0.3', 'iOS 11.0.2', 'Mac OS X 10.12.5',\n",
       "       'Mac OS X 10.10.1', 'Mac OS X 10.13.2', 'Android 4.1.1',\n",
       "       'Chrome OS 10452.99', 'Mac OS X 10.13.1', 'iOS 9.3.4',\n",
       "       'Mac OS X 10.11.3', 'iOS 8.1', 'iOS 11.1.1', 'iOS 5.0.1', 'iOS 12',\n",
       "       'Mac OS X 10.11.1', 'iOS 10.1.1', 'iOS 8.1.3',\n",
       "       'Chrome OS 10032.75', 'Chrome OS 10452.85', 'Tizen 2.4',\n",
       "       'Android 2.3.6', 'iOS 8.3', 'iOS 8.4', 'iOS 8.1.1',\n",
       "       'Mac OS X 10.7.5', 'Chrome OS 10176.66', 'Android 3.2',\n",
       "       'iOS 9.3.2', 'Chrome OS 10323.67', 'Android 6.3', 'iOS 11',\n",
       "       'Chrome OS 10176.76', 'Chrome OS 10323.62', 'Mac OS X 10.11.4',\n",
       "       'Android 4.4.1', 'iOS 11.4.1', 'Android 4.0.3', 'iOS 9.1',\n",
       "       'Android 4.4', 'iOS 10.0.1', 'iOS 6.1.6', 'Android 3.1',\n",
       "       'Chrome OS 10452.74', 'Mac OS X 10.13', 'Mac OS X 10.10.4',\n",
       "       'Chrome OS 10575.54', 'Mac OS X 10.10.3', 'Mac OS X 10.6'],\n",
       "      dtype=object)"
      ]
     },
     "execution_count": 249,
     "metadata": {},
     "output_type": "execute_result"
    }
   ],
   "source": [
    "df[\"operating_system_version\"].unique()"
   ]
  },
  {
   "cell_type": "code",
   "execution_count": 250,
   "metadata": {},
   "outputs": [],
   "source": [
    "OSs = [\"Chrome\",\"Android\",\"Mac\",\"iOS\",\"Windows\",\"Linux\",\"Phone\",\"RT\",\"Other\",\"Ubuntu\",\"Tizen\"]\n",
    "def os(obj) :\n",
    "    if(pd.isnull(obj)):\n",
    "        return obj\n",
    "    list = obj.split(\" \")\n",
    "    true_list = []\n",
    "    for word in list:\n",
    "        if word in OSs:\n",
    "            true_list.append(word)\n",
    "    if( len(true_list) == 0):\n",
    "        print (' '.join(word for word in list))\n",
    "    return ' '.join(word for word in true_list)\n",
    "    \n",
    "df[\"OS\"] = df[\"operating_system_version\"].apply(os)"
   ]
  },
  {
   "cell_type": "code",
   "execution_count": 251,
   "metadata": {},
   "outputs": [
    {
     "data": {
      "text/plain": [
       "OS\n",
       "Android          41410\n",
       "Chrome              83\n",
       "Linux              293\n",
       "Mac                406\n",
       "Other               48\n",
       "Tizen                7\n",
       "Ubuntu              97\n",
       "Windows          40984\n",
       "Windows Phone      497\n",
       "Windows RT          14\n",
       "iOS               3539\n",
       "dtype: int64"
      ]
     },
     "execution_count": 251,
     "metadata": {},
     "output_type": "execute_result"
    }
   ],
   "source": [
    "df.groupby(\"OS\").size()"
   ]
  },
  {
   "cell_type": "markdown",
   "metadata": {},
   "source": [
    "#aplicar esto no deja registrar versiones\n",
    "\n",
    "def engrosar(obj):\n",
    "    obj = obj.replace(\"Tizen\",\"Linux\")\n",
    "    obj = obj.replace(\"Windows RT\",\"Windows Phone\")\n",
    "    obj = obj.replace(\"Ubuntu\",\"Linux\")\n",
    "    #obj = obj.replace(\"iOS\",\"Mac\")\n",
    "    return obj\n",
    "\n",
    "df[\"OS\"] = df[\"OS\"].astype(\"str\").apply(engrosar)"
   ]
  },
  {
   "cell_type": "code",
   "execution_count": 252,
   "metadata": {},
   "outputs": [
    {
     "data": {
      "text/plain": [
       "array([nan, 'Android', 'Windows', 'iOS', 'Linux', 'Mac', 'Windows Phone',\n",
       "       'Ubuntu', 'Other', 'Chrome', 'Windows RT', 'Tizen'], dtype=object)"
      ]
     },
     "execution_count": 252,
     "metadata": {},
     "output_type": "execute_result"
    }
   ],
   "source": [
    "df[\"OS\"].unique()"
   ]
  },
  {
   "cell_type": "code",
   "execution_count": 253,
   "metadata": {},
   "outputs": [
    {
     "data": {
      "text/plain": [
       "OS\n",
       "Android          41410\n",
       "Chrome              83\n",
       "Linux              293\n",
       "Mac                406\n",
       "Other               48\n",
       "Tizen                7\n",
       "Ubuntu              97\n",
       "Windows          40984\n",
       "Windows Phone      497\n",
       "Windows RT          14\n",
       "iOS               3539\n",
       "dtype: int64"
      ]
     },
     "execution_count": 253,
     "metadata": {},
     "output_type": "execute_result"
    }
   ],
   "source": [
    "df.groupby(\"OS\").size()"
   ]
  },
  {
   "cell_type": "code",
   "execution_count": 254,
   "metadata": {
    "scrolled": true
   },
   "outputs": [],
   "source": [
    "BRS = [\"Vivaldi\",\"Chrome\",\"Android\",\"Safari\",\"Chromium\",\"Opera\",\"Firefox\",\"UC\",\"Facebook\",\"Edge\",\"Samsung\",\"IE\"]\n",
    "i = 0\n",
    "def brow(obj) :\n",
    "    if(pd.isnull(obj)):\n",
    "        return obj\n",
    "    if(obj == \"\"):\n",
    "        return float(\"NaN\")\n",
    "    list = obj.split(\" \")\n",
    "    true_list = []\n",
    "    for word in list:\n",
    "        if word in BRS:\n",
    "            true_list.append(word)\n",
    "    if( len(true_list) == 0):\n",
    "        #print (' '.join(word for word in list))\n",
    "        return \"Other\"\n",
    "    \n",
    "    return ' '.join(word for word in true_list)\n",
    "    \n",
    "df[\"browser\"] = df[\"browser_version\"].apply(brow)"
   ]
  },
  {
   "cell_type": "code",
   "execution_count": 255,
   "metadata": {},
   "outputs": [
    {
     "data": {
      "text/plain": [
       "Chrome      75137\n",
       "Safari       3402\n",
       "Firefox      2615\n",
       "Samsung      1699\n",
       "Facebook     1415\n",
       "Edge         1145\n",
       "Opera         689\n",
       "IE            643\n",
       "Android       347\n",
       "UC            136\n",
       "Other          72\n",
       "Chromium       40\n",
       "Vivaldi        38\n",
       "Name: browser, dtype: int64"
      ]
     },
     "execution_count": 255,
     "metadata": {},
     "output_type": "execute_result"
    }
   ],
   "source": [
    "df[\"browser\"].value_counts()"
   ]
  },
  {
   "cell_type": "markdown",
   "metadata": {},
   "source": [
    "No sirve, solo encuentra 50 dispositivos no detectados en device type\n",
    "\n",
    "\n",
    "keysb = [\"Mobile\",\"Mini\",\"Android\",\"UC\",\"Samsung\"]\n",
    "keysos = [\"Android\",\"Phone\",\"RT\",\"iOS\"]\n",
    "\n",
    "def isMob(row):\n",
    "    brow = row[\"browser\"]\n",
    "    device = row[\"device_type\"]\n",
    "    os = row[\"OS\"]\n",
    "    \n",
    "    if(device == \"Smartphone\" or device == \"Tablet\"):\n",
    "        return True\n",
    "    \n",
    "    if(pd.isnull(brow)):\n",
    "        lbrow =[]\n",
    "    else:\n",
    "        lbrow = brow.split(\" \")\n",
    "    \n",
    "    if(pd.isnull(os)):\n",
    "        los =[]\n",
    "    else:\n",
    "        los = os.split(\" \")\n",
    "    \n",
    "    for word in lbrow:\n",
    "        if word in keysb:\n",
    "            return True\n",
    "    \n",
    "    for word in los:\n",
    "        if word in keysos:\n",
    "            return True\n",
    "    return False\n",
    "\n",
    "df[\"Mob\"] = df.loc[:,[\"browser\",\"device_type\",\"OS\"]].apply(isMob,axis = 1)\n",
    "            "
   ]
  },
  {
   "cell_type": "code",
   "execution_count": 256,
   "metadata": {},
   "outputs": [],
   "source": [
    "df[\"dt\"] = pd.to_datetime(df[\"timestamp\"])"
   ]
  },
  {
   "cell_type": "code",
   "execution_count": 257,
   "metadata": {},
   "outputs": [
    {
     "data": {
      "text/plain": [
       "array([False])"
      ]
     },
     "execution_count": 257,
     "metadata": {},
     "output_type": "execute_result"
    }
   ],
   "source": [
    "df[\"dt\"].isnull().unique()"
   ]
  },
  {
   "cell_type": "code",
   "execution_count": 258,
   "metadata": {},
   "outputs": [],
   "source": [
    "df[\"timestamp\"] = df[\"dt\"]"
   ]
  },
  {
   "cell_type": "code",
   "execution_count": 259,
   "metadata": {},
   "outputs": [],
   "source": [
    "del df[\"dt\"]"
   ]
  },
  {
   "cell_type": "code",
   "execution_count": null,
   "metadata": {},
   "outputs": [],
   "source": []
  },
  {
   "cell_type": "code",
   "execution_count": 260,
   "metadata": {},
   "outputs": [],
   "source": [
    "BRS = [\"Vivaldi\",\"Chrome\",\"Android\",\"Safari\",\"Chromium\",\"Opera\",\"Firefox\",\"UC\",\"Facebook\",\"Edge\",\"Samsung\",\"IE\",]\n",
    "i = 0\n",
    "def brow(obj) :\n",
    "    if(pd.isnull(obj)):\n",
    "        return obj\n",
    "    if(obj == \"\"):\n",
    "        return float(\"NaN\")\n",
    "    list = obj.split(\" \")\n",
    "    true_list = []\n",
    "    for word in list:\n",
    "        if word in BRS:\n",
    "            true_list.append(word)\n",
    "    if( len(true_list) == 0):\n",
    "        #print (' '.join(word for word in list))\n",
    "        return \"Other\"\n",
    "    return ' '.join(word for word in list if word not in true_list)\n",
    "    \n",
    "df[\"b_v\"] = df[\"browser_version\"].apply(brow)"
   ]
  },
  {
   "cell_type": "code",
   "execution_count": 261,
   "metadata": {},
   "outputs": [],
   "source": [
    "#df[\"b_v\"].value_counts()"
   ]
  },
  {
   "cell_type": "code",
   "execution_count": 262,
   "metadata": {},
   "outputs": [],
   "source": [
    "OSs = [\"Chrome\",\"Android\",\"Mac\",\"iOS\",\"Windows\",\"Linux\",\"Phone\",\"RT\",\"Other\",\"Ubuntu\",\"Tizen\"]\n",
    "def os(obj) :\n",
    "    if(pd.isnull(obj)):\n",
    "        return obj\n",
    "    list = obj.split(\" \")\n",
    "    true_list = []\n",
    "    for word in list:\n",
    "        if word in OSs:\n",
    "            true_list.append(word)\n",
    "    if( len(true_list) == 0):\n",
    "        print (' '.join(word for word in list))\n",
    "    return ' '.join(word for word in list if word not in true_list)\n",
    "    \n",
    "df[\"OSV\"] = df[\"operating_system_version\"].apply(os)"
   ]
  },
  {
   "cell_type": "code",
   "execution_count": 263,
   "metadata": {},
   "outputs": [],
   "source": [
    "#df[\"OSV\"].value_counts()"
   ]
  },
  {
   "cell_type": "code",
   "execution_count": 264,
   "metadata": {
    "scrolled": true
   },
   "outputs": [
    {
     "data": {
      "text/plain": [
       "array([nan, 'Cinza espacial', 'Dourado', 'Preto', 'Ouro Rosa', 'Branco',\n",
       "       'Azul', 'Preto Matte', 'Cabernet', 'Rosa', 'Verde',\n",
       "       'Couro Vintage', 'Prateado', 'Cinza', 'Preto Vermelho',\n",
       "       'Branco Vermelho', 'Platinum', 'Ouro', 'Azul Topázio',\n",
       "       'Black Piano', 'Verde Água', 'Cobre', 'Olympic Edition', 'Prata',\n",
       "       'Couro Marrom', 'Bambu', 'Framboesa', 'Azul Escuro', 'Titânio',\n",
       "       'Vermelho', 'Preto Brilhante', 'Ametista', 'Branco Pink',\n",
       "       'Preto Azul', 'Azul Safira', 'Rouge', 'Couro Navy', 'Iuna',\n",
       "       'Branco Bambu', 'Branco Dourado', 'Branco Azul', 'Amarelo',\n",
       "       'Branco Framboesa', 'Preto Verde', 'Ônix', 'Branco Verde',\n",
       "       'Indigo', 'Preto Pink', 'Branco Cabernet', 'Branco Azul Navy',\n",
       "       'Preto Azul Navy', 'Preto Cabernet', 'Preto Bambu', 'Roxo',\n",
       "       'Cromo', 'Rose', 'Verde Petroleo', 'Turquesa', 'Preto Branco',\n",
       "       'Coral', 'Couro Vinho', 'Preto Tabaco', 'Silver', 'Preto Asfalto'],\n",
       "      dtype=object)"
      ]
     },
     "execution_count": 264,
     "metadata": {},
     "output_type": "execute_result"
    }
   ],
   "source": [
    "#engrosar colores\n",
    "df[\"color\"].unique()"
   ]
  },
  {
   "cell_type": "code",
   "execution_count": 265,
   "metadata": {},
   "outputs": [],
   "source": [
    "colores = [\"Cinza\",\"Dourado\",\"Preto\",\"Rosa\",\"Branco\",\"Azul\",\"Cabernet\",\"Verde\",\"Couro\",\"Prateado\",\"Vermelho\",\"Branco\",\"Platinum\",\"Ouro\",\"Marrom\",\"Bambu\",\"Framboesa\",\"Black\",\"Verde\",\"Cobre\",\"Olympic\",\"Prata\",\"Titânio\",\"Ametista\",\"Pink\",\"Rouge\",\"Iuna\",\"Amarelo\",\"Ônix\",\"Indigo\",\"Roxo\",\"Cromo\",\"Rose\",\"Turquesa\",\"Coral\",\"Vinho\",\"Silver\"]\n",
    "llamativo = [\"espacial\",\"Matte\",\"Ouro\",\"Couro\",\"Cromo\",\"Platinum\",\"Topázio\",\"Piano\",\"Água\",\"Edition\",\"Coral\",\"Titânio\",\"Brilhante\",\"Ametista\",\"Safira\",\"Navy\",\"Ônix\",\"Tabaco\",\"Asfalto\"]\n",
    "\n",
    "ambas = colores + llamativo\n",
    "\n",
    "def color(row) :\n",
    "    obj = row[\"color\"]\n",
    "    if(pd.isnull(obj)):\n",
    "        return obj\n",
    "    \n",
    "    if(obj == \"\"):\n",
    "        return float(\"NaN\")\n",
    "    \n",
    "    list = obj.split(\" \")\n",
    "    true_list = []\n",
    "    \n",
    "    for word in list:\n",
    "        if word in colores:\n",
    "            true_list.append(word)\n",
    "            \n",
    "    value = False\n",
    "    for word in list:\n",
    "        if word in llamativo:\n",
    "                value = True\n",
    "    row[\"color_llamativo\"] = value\n",
    "    \n",
    "    #debug\n",
    "   # if len(true_list) != len(list):\n",
    "    #    for word in list:\n",
    "     #       if word not in ambas:\n",
    "      #          print (word)\n",
    "       #         ambas.append(word)\n",
    "    \n",
    "    return ' '.join(word for word in true_list)\n",
    "\n",
    "df[\"color_llamativo\"] = float(\"NaN\")\n",
    "df[\"color_simple\"] = df.loc[:,[\"color\",\"color_llamativo\"]].apply(color,axis = 1)"
   ]
  },
  {
   "cell_type": "code",
   "execution_count": 266,
   "metadata": {},
   "outputs": [
    {
     "data": {
      "text/plain": [
       "array([nan, 'Cinza', 'Dourado', 'Preto', 'Ouro Rosa', 'Branco', 'Azul',\n",
       "       'Cabernet', 'Rosa', 'Verde', 'Couro', 'Prateado', 'Preto Vermelho',\n",
       "       'Branco Vermelho', 'Platinum', 'Ouro', 'Black', 'Cobre', 'Olympic',\n",
       "       'Prata', 'Couro Marrom', 'Bambu', 'Framboesa', 'Titânio',\n",
       "       'Vermelho', 'Ametista', 'Branco Pink', 'Preto Azul', 'Rouge',\n",
       "       'Iuna', 'Branco Bambu', 'Branco Dourado', 'Branco Azul', 'Amarelo',\n",
       "       'Branco Framboesa', 'Preto Verde', 'Ônix', 'Branco Verde',\n",
       "       'Indigo', 'Preto Pink', 'Branco Cabernet', 'Preto Cabernet',\n",
       "       'Preto Bambu', 'Roxo', 'Cromo', 'Rose', 'Turquesa', 'Preto Branco',\n",
       "       'Coral', 'Couro Vinho', 'Silver'], dtype=object)"
      ]
     },
     "execution_count": 266,
     "metadata": {},
     "output_type": "execute_result"
    }
   ],
   "source": [
    "df[\"color_simple\"].unique()"
   ]
  },
  {
   "cell_type": "code",
   "execution_count": 267,
   "metadata": {},
   "outputs": [],
   "source": [
    "def color2(obj):\n",
    "    if(pd.isnull(obj)):\n",
    "        return obj\n",
    "    \n",
    "    obj = obj.replace(\"Ouro\",\"Dourado\")\n",
    "    obj = obj.replace(\"Cabernet\",\"Roxo\")\n",
    "    obj = obj.replace(\"Couro\",\"Marrom\")\n",
    "    obj = obj.replace(\"Platinum\",\"Prateado\")\n",
    "    obj = obj.replace(\"Black\",\"Preto\")\n",
    "    obj = obj.replace(\"Prata\",\"Prateado\")\n",
    "    obj = obj.replace(\"Bambu\",\"Vermelho\")\n",
    "    obj = obj.replace(\"Framboesa\",\"Roxo\")\n",
    "    obj = obj.replace(\"Titânio\",\"Prateado\")\n",
    "    obj = obj.replace(\"Ametista\",\"Turquesa\")\n",
    "    obj = obj.replace(\"Pink\",\"Rosa\")\n",
    "    obj = obj.replace(\"Ônix\",\"Preto\")\n",
    "    obj = obj.replace(\"Cromo\",\"Prateado\")\n",
    "    obj = obj.replace(\"Silver\",\"Prateado\")\n",
    "    obj = obj.replace(\"Verde\",\"Vermelho\")\n",
    "    obj = obj.replace(\"Rose\",\"Rosa\")\n",
    "    obj = obj.replace(\"Coral\",\"Rosa\")\n",
    "    return obj\n",
    "    \n",
    "df[\"color_simple\"] = df[\"color_simple\"].apply(color2)\n"
   ]
  },
  {
   "cell_type": "code",
   "execution_count": 268,
   "metadata": {},
   "outputs": [
    {
     "data": {
      "text/plain": [
       "array([nan, 'Cinza', 'Dourado', 'Preto', 'Dourado Rosa', 'Branco', 'Azul',\n",
       "       'Roxo', 'Rosa', 'Vermelho', 'Marrom', 'Prateado', 'Preto Vermelho',\n",
       "       'Branco Vermelho', 'Cobre', 'Olympic', 'Marrom Marrom', 'Turquesa',\n",
       "       'Branco Rosa', 'Preto Azul', 'Rouge', 'Iuna', 'Branco Dourado',\n",
       "       'Branco Azul', 'Amarelo', 'Branco Roxo', 'Indigo', 'Preto Rosa',\n",
       "       'Preto Roxo', 'Preto Branco', 'Marrom Vinho'], dtype=object)"
      ]
     },
     "execution_count": 268,
     "metadata": {},
     "output_type": "execute_result"
    }
   ],
   "source": [
    "df[\"color_simple\"].unique()"
   ]
  },
  {
   "cell_type": "code",
   "execution_count": null,
   "metadata": {},
   "outputs": [],
   "source": []
  },
  {
   "cell_type": "code",
   "execution_count": 269,
   "metadata": {},
   "outputs": [],
   "source": [
    "colores_relevancia = [\"Rosa\",\"Vermelho\",\"Marrom\",\"Azul\",\"Dourado\",\"Roxo\",\"Branco\"]\n",
    "\n",
    "def color3(obj):\n",
    "    if(pd.isnull(obj)):\n",
    "        return obj\n",
    "    \n",
    "    list = obj.split(\" \")\n",
    "    \n",
    "    if len(list) == 1:\n",
    "        return obj\n",
    "    \n",
    "    for word in list:\n",
    "        if word in colores_relevancia:\n",
    "            return word\n",
    "    \n",
    "    \n",
    "    \n",
    "    \n",
    "    \n",
    "    return obj\n",
    "    \n",
    "df[\"color_simple\"] = df[\"color_simple\"].apply(color3)"
   ]
  },
  {
   "cell_type": "code",
   "execution_count": 270,
   "metadata": {
    "scrolled": true
   },
   "outputs": [
    {
     "data": {
      "text/plain": [
       "Preto       156654\n",
       "Dourado     151929\n",
       "Prateado     77185\n",
       "Cinza        69014\n",
       "Branco       58977\n",
       "Rosa         17248\n",
       "Azul         11081\n",
       "Vermelho      9784\n",
       "Turquesa      7420\n",
       "Roxo          1289\n",
       "Amarelo        843\n",
       "Olympic        698\n",
       "Indigo         659\n",
       "Marrom         527\n",
       "Rouge          310\n",
       "Iuna           138\n",
       "Cobre           80\n",
       "Name: color_simple, dtype: int64"
      ]
     },
     "execution_count": 270,
     "metadata": {},
     "output_type": "execute_result"
    }
   ],
   "source": [
    "df[\"color_simple\"].value_counts()"
   ]
  },
  {
   "cell_type": "code",
   "execution_count": null,
   "metadata": {},
   "outputs": [],
   "source": []
  },
  {
   "cell_type": "code",
   "execution_count": 271,
   "metadata": {},
   "outputs": [],
   "source": [
    "event_types = df[\"event\"].unique()"
   ]
  },
  {
   "cell_type": "code",
   "execution_count": 274,
   "metadata": {},
   "outputs": [],
   "source": [
    "for i in range(0,len(event_types)): \n",
    "    dftemp = df.loc[df[\"event\"] == event_types[i]]\n",
    "    dftemp = dftemp.loc[:, dftemp.notna().any()]\n",
    "    dftemp.to_csv(\"frag/events_of_\" + event_types[i] + \".csv\")"
   ]
  },
  {
   "cell_type": "code",
   "execution_count": null,
   "metadata": {
    "scrolled": true
   },
   "outputs": [],
   "source": []
  },
  {
   "cell_type": "code",
   "execution_count": null,
   "metadata": {},
   "outputs": [],
   "source": []
  },
  {
   "cell_type": "code",
   "execution_count": null,
   "metadata": {},
   "outputs": [],
   "source": []
  },
  {
   "cell_type": "code",
   "execution_count": null,
   "metadata": {},
   "outputs": [],
   "source": []
  },
  {
   "cell_type": "code",
   "execution_count": null,
   "metadata": {},
   "outputs": [],
   "source": []
  },
  {
   "cell_type": "code",
   "execution_count": null,
   "metadata": {},
   "outputs": [],
   "source": []
  },
  {
   "cell_type": "code",
   "execution_count": 273,
   "metadata": {},
   "outputs": [],
   "source": [
    "df.to_csv(\"events_mod1.csv\")"
   ]
  }
 ],
 "metadata": {
  "kernelspec": {
   "display_name": "Python 3",
   "language": "python",
   "name": "python3"
  },
  "language_info": {
   "codemirror_mode": {
    "name": "ipython",
    "version": 3
   },
   "file_extension": ".py",
   "mimetype": "text/x-python",
   "name": "python",
   "nbconvert_exporter": "python",
   "pygments_lexer": "ipython3",
   "version": "3.5.2"
  }
 },
 "nbformat": 4,
 "nbformat_minor": 2
}
